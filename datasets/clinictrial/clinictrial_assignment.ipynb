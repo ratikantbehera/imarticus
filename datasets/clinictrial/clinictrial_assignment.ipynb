{
 "cells": [
  {
   "cell_type": "markdown",
   "id": "07638726-5ed0-4f5b-aa72-8a73c5ed0e03",
   "metadata": {},
   "source": [
    "## Clinic Trial Dataset Questions"
   ]
  },
  {
   "cell_type": "code",
   "execution_count": null,
   "id": "38db68a3-98ae-4e82-8f18-ff9f651f441d",
   "metadata": {},
   "outputs": [],
   "source": [
    "import pandas as pd\n",
    "\n",
    "data = pd.read_csv('clinictrial.csv')"
   ]
  },
  {
   "cell_type": "code",
   "execution_count": null,
   "id": "158b79ec-fbae-45c8-8a76-592972ee581c",
   "metadata": {},
   "outputs": [],
   "source": [
    "data"
   ]
  },
  {
   "cell_type": "markdown",
   "id": "8fa4f691-ab2d-4543-be25-6b9d9b50a051",
   "metadata": {},
   "source": [
    "##### Find the average age"
   ]
  },
  {
   "cell_type": "code",
   "execution_count": null,
   "id": "dd13808f-c2a9-45aa-8a4e-5d092aa38c8d",
   "metadata": {},
   "outputs": [],
   "source": [
    "data.Age.mean()"
   ]
  },
  {
   "cell_type": "markdown",
   "id": "69e81a63-9162-498c-bfdf-421055a1aa37",
   "metadata": {},
   "source": [
    "##### Find the min age"
   ]
  },
  {
   "cell_type": "code",
   "execution_count": null,
   "id": "8eaa799f-fe21-48c0-a0cd-fc6a5a989ca7",
   "metadata": {},
   "outputs": [],
   "source": [
    "data.Age.min()"
   ]
  },
  {
   "cell_type": "markdown",
   "id": "af826270-a606-4e1b-8f73-274ac64534ab",
   "metadata": {},
   "source": [
    "##### Find the max age"
   ]
  },
  {
   "cell_type": "code",
   "execution_count": null,
   "id": "bd821592-3f19-4ef1-907a-94f409467a61",
   "metadata": {},
   "outputs": [],
   "source": [
    "data.Age.max()"
   ]
  },
  {
   "cell_type": "markdown",
   "id": "2c5cb405-2ffa-4a81-b8cb-2996799a4462",
   "metadata": {},
   "source": [
    "##### Find the average age of those who are pregnant and not pregnant"
   ]
  },
  {
   "cell_type": "code",
   "execution_count": null,
   "id": "f70ec6d8-f115-4320-b979-ff5d400bfac0",
   "metadata": {},
   "outputs": [],
   "source": [
    "data.groupby('Pregnant').Age.mean()"
   ]
  },
  {
   "cell_type": "markdown",
   "id": "22a64495-3379-4cd4-9b46-db2a7678a2ec",
   "metadata": {},
   "source": [
    "##### Find average blood pressure of those had drug reaction and did not had drug reaction"
   ]
  },
  {
   "cell_type": "code",
   "execution_count": null,
   "id": "b77e4cb6-7249-491e-9300-90ac2906521d",
   "metadata": {},
   "outputs": [],
   "source": [
    "data.groupby('Drug_Reaction').BP.mean()"
   ]
  },
  {
   "cell_type": "markdown",
   "id": "c8090fc1-9192-4896-877f-595649918587",
   "metadata": {},
   "source": [
    "##### Add new column name as ‘Age_group’ and those having age between 16 & 21 should be categorized as Low, more than 21 and less than 35 should be categorized as Middle and above 35 should be categorized as High"
   ]
  },
  {
   "cell_type": "code",
   "execution_count": 13,
   "id": "8096418e-3063-4745-9cf5-404d1c6e287d",
   "metadata": {},
   "outputs": [],
   "source": [
    "data['Age_group']=data.Age.apply(lambda x:'High' if x>=35 else 'Middle' if x>=21 else 'Low')"
   ]
  },
  {
   "cell_type": "markdown",
   "id": "25598ae6-38ed-4097-a484-938a6291b28b",
   "metadata": {},
   "source": [
    "##### Change ‘Age’ of Reetika to 32"
   ]
  },
  {
   "cell_type": "code",
   "execution_count": 44,
   "id": "c426e8ed-0766-48e7-8e97-0b2b05664bc1",
   "metadata": {},
   "outputs": [],
   "source": [
    "data.loc[data.Name == 'Reetika',['Age']]=32"
   ]
  },
  {
   "cell_type": "markdown",
   "id": "c61e7735-6f3d-44aa-907d-5b6eaca0c9c8",
   "metadata": {},
   "source": [
    "##### Change name of Reena as Shara"
   ]
  },
  {
   "cell_type": "code",
   "execution_count": 50,
   "id": "381e5ad3-43a8-4df2-bc2f-d1b00a5dac48",
   "metadata": {},
   "outputs": [],
   "source": [
    "data.loc[data.Name == 'Reena',['Name']]='Shara'"
   ]
  },
  {
   "cell_type": "markdown",
   "id": "57a6eac2-e554-4ff6-84fe-b21aa6a3d1a1",
   "metadata": {},
   "source": [
    "##### Remove Chlstrl column"
   ]
  },
  {
   "cell_type": "code",
   "execution_count": 54,
   "id": "12c4516e-d3ba-4a45-9b60-6b20593952de",
   "metadata": {},
   "outputs": [],
   "source": [
    "data.drop(columns='Chlstrl',inplace=True)"
   ]
  },
  {
   "cell_type": "markdown",
   "id": "60d28ae0-9bc4-4d2c-b937-e6d171bbc9cf",
   "metadata": {},
   "source": [
    "##### Select only Name, Age and BP"
   ]
  },
  {
   "cell_type": "code",
   "execution_count": null,
   "id": "90289fc8-ba7b-4f04-887f-b460d1899152",
   "metadata": {},
   "outputs": [],
   "source": [
    "data[['Name','Age','BP']]"
   ]
  },
  {
   "cell_type": "markdown",
   "id": "b47b8891-909f-4ffb-8409-184d392ba0c1",
   "metadata": {},
   "source": [
    "##### Select ladies whose first name starts with ‘E’"
   ]
  },
  {
   "cell_type": "code",
   "execution_count": null,
   "id": "e74dd7ba-1b7f-4dfd-8a86-2b3605a477cc",
   "metadata": {},
   "outputs": [],
   "source": [
    "data[data.Name.apply(lambda x: True if x[0]=='E' else False)]"
   ]
  },
  {
   "cell_type": "markdown",
   "id": "27713c08-6b4e-4d61-9954-78aea03347f1",
   "metadata": {},
   "source": [
    "##### Select ladies whose Age_group were Low"
   ]
  },
  {
   "cell_type": "code",
   "execution_count": null,
   "id": "e6fbc69a-5e40-4b0d-be93-063d579f408c",
   "metadata": {},
   "outputs": [],
   "source": [
    "data[data.Age_group == 'Low']"
   ]
  },
  {
   "cell_type": "markdown",
   "id": "06f52d18-4b43-4223-85f1-bede2152ec79",
   "metadata": {},
   "source": [
    "##### Select ladies whose Age_group were High"
   ]
  },
  {
   "cell_type": "code",
   "execution_count": null,
   "id": "64e77516-5066-4cca-94c8-27c9d164a2b3",
   "metadata": {},
   "outputs": [],
   "source": [
    "data[data.Age_group == 'High']"
   ]
  },
  {
   "cell_type": "markdown",
   "id": "0c4d6e44-4d41-4543-b0cb-6ecfa2f54d59",
   "metadata": {},
   "source": [
    "##### Select ladies whose name starts with ‘A’ and those were pregnant"
   ]
  },
  {
   "cell_type": "code",
   "execution_count": null,
   "id": "510296e4-08b2-46be-ae2b-2fc17a8090a6",
   "metadata": {},
   "outputs": [],
   "source": [
    "data[(data.Name.apply(lambda x: True if x[0]=='A' else False))&(data.Pregnant=='yes')]"
   ]
  },
  {
   "cell_type": "markdown",
   "id": "67598215-6283-41a6-b22e-5ef5782e5e9b",
   "metadata": {},
   "source": [
    "##### Identify ladies whose BP was more than 120"
   ]
  },
  {
   "cell_type": "code",
   "execution_count": null,
   "id": "b4444967-a113-4354-8448-34077660a4c7",
   "metadata": {},
   "outputs": [],
   "source": [
    "data[data.BP>120]"
   ]
  },
  {
   "cell_type": "markdown",
   "id": "25d10d87-7979-4809-83f2-a854a877213a",
   "metadata": {},
   "source": [
    "##### Identify ladies whose BP was between 100 and 120"
   ]
  },
  {
   "cell_type": "code",
   "execution_count": null,
   "id": "f77db0fb-b8cb-446a-add2-4fdec71d0d7f",
   "metadata": {},
   "outputs": [],
   "source": [
    "data[(data.BP>=100)&(data.BP<=120)]"
   ]
  },
  {
   "cell_type": "markdown",
   "id": "7ad8c2f8-634b-4d3b-88d6-6abdb696e057",
   "metadata": {},
   "source": [
    "##### Identify ladies who had low anxiety aged less than 30"
   ]
  },
  {
   "cell_type": "code",
   "execution_count": null,
   "id": "bf7c1ef9-8389-4de0-898f-46d60de01ecf",
   "metadata": {},
   "outputs": [],
   "source": [
    "data[(data.Anxty_LH == 'no')&(data.Age<30)]"
   ]
  },
  {
   "cell_type": "markdown",
   "id": "b42bf423-a475-45a6-8402-919c9871ec0e",
   "metadata": {},
   "source": [
    "##### Select ladies whose name ends with 'i'"
   ]
  },
  {
   "cell_type": "code",
   "execution_count": null,
   "id": "b8feb3b3-d9ca-46ca-97e9-9a3a824fc3c0",
   "metadata": {},
   "outputs": [],
   "source": [
    "data[data.Name.apply(lambda x: True if x[-1]=='i' else False)]"
   ]
  },
  {
   "cell_type": "markdown",
   "id": "0029bb97-4a1d-4d7f-ae1e-91ddfe551881",
   "metadata": {},
   "source": [
    "##### Select ladies whose name ends with ‘a’"
   ]
  },
  {
   "cell_type": "code",
   "execution_count": null,
   "id": "57cfd1c3-edfc-45e7-96ae-765ef4558155",
   "metadata": {},
   "outputs": [],
   "source": [
    "data[data.Name.apply(lambda x: True if x[-1]=='a' else False)]"
   ]
  },
  {
   "cell_type": "markdown",
   "id": "7bbcac4e-af93-4e69-a281-3557f003219d",
   "metadata": {},
   "source": [
    "##### Select ladies whose name starts with ‘K’"
   ]
  },
  {
   "cell_type": "code",
   "execution_count": null,
   "id": "b20e4279-a704-4e0d-804f-32206a17d02f",
   "metadata": {},
   "outputs": [],
   "source": [
    "data[data.Name.apply(lambda x: True if x[0]=='K' else False)]"
   ]
  },
  {
   "cell_type": "markdown",
   "id": "a7ffdccc-8ea1-4caa-af57-5854e3a38b4a",
   "metadata": {},
   "source": [
    "##### Select ladies whose name have ‘a’ anywhere"
   ]
  },
  {
   "cell_type": "code",
   "execution_count": null,
   "id": "41355de4-da95-443d-b71c-fb846f6efd21",
   "metadata": {},
   "outputs": [],
   "source": [
    "data[data.Name.apply(lambda x: True if 'a' in x.lower() else False)]"
   ]
  },
  {
   "cell_type": "markdown",
   "id": "b72dd21b-b13f-4bef-a60c-ee07abdab23a",
   "metadata": {},
   "source": [
    "##### Order ladies in ascending way based on ‘BP’"
   ]
  },
  {
   "cell_type": "code",
   "execution_count": null,
   "id": "4e6b25d7-47a6-488e-baf0-661741adc924",
   "metadata": {},
   "outputs": [],
   "source": [
    "data.sort_values(by='BP')"
   ]
  },
  {
   "cell_type": "markdown",
   "id": "cd983916-2ea0-458d-812e-0bb6efc498d1",
   "metadata": {},
   "source": [
    "##### Order ladies in descending way based on ‘Age’"
   ]
  },
  {
   "cell_type": "code",
   "execution_count": null,
   "id": "0d63f2e7-8eae-4035-b6b2-aacf16360119",
   "metadata": {},
   "outputs": [],
   "source": [
    "data.sort_values(by='Age',ascending=False)"
   ]
  }
 ],
 "metadata": {
  "kernelspec": {
   "display_name": "Python 3 (ipykernel)",
   "language": "python",
   "name": "python3"
  },
  "language_info": {
   "codemirror_mode": {
    "name": "ipython",
    "version": 3
   },
   "file_extension": ".py",
   "mimetype": "text/x-python",
   "name": "python",
   "nbconvert_exporter": "python",
   "pygments_lexer": "ipython3",
   "version": "3.13.2"
  }
 },
 "nbformat": 4,
 "nbformat_minor": 5
}
