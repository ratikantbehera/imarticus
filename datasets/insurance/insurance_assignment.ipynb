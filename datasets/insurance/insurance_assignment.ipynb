{
 "cells": [
  {
   "cell_type": "markdown",
   "id": "59cfdcd1-1836-4544-ac97-c7f443f667a2",
   "metadata": {},
   "source": [
    "## Insurance Dataset Questions"
   ]
  },
  {
   "cell_type": "code",
   "execution_count": null,
   "id": "fdac7e34-527e-4147-8cef-b266e4cbc164",
   "metadata": {},
   "outputs": [],
   "source": [
    "import pandas as pd\n",
    "\n",
    "data = pd.read_csv('insurance.csv')"
   ]
  },
  {
   "cell_type": "markdown",
   "id": "e2dbd6be-7192-4b51-adc4-51cef3067247",
   "metadata": {},
   "source": [
    "##### Count for each categories of 'region'"
   ]
  },
  {
   "cell_type": "code",
   "execution_count": null,
   "id": "67dbf2af-d4ac-429e-80cf-9552ebfbcde2",
   "metadata": {},
   "outputs": [],
   "source": [
    "data.region.value_counts()"
   ]
  },
  {
   "cell_type": "markdown",
   "id": "dc0c7c08-5958-44c8-8747-9ac586c2c9ae",
   "metadata": {},
   "source": [
    "##### Find 50 records of highest ‘age’"
   ]
  },
  {
   "cell_type": "code",
   "execution_count": null,
   "id": "0f412a47-d054-4f00-86e2-0fe952ecf0e4",
   "metadata": {},
   "outputs": [],
   "source": [
    "data.sort_values(by='age',ascending=False).head(50)"
   ]
  },
  {
   "cell_type": "markdown",
   "id": "9c299532-8ab9-4958-8aa1-80cd3216c6f9",
   "metadata": {},
   "source": [
    "##### Create view name as ‘gender’ where users can not see ‘sex’"
   ]
  },
  {
   "cell_type": "code",
   "execution_count": null,
   "id": "bbc7920a-3771-4d7c-ac8a-cd31f06a1d1b",
   "metadata": {},
   "outputs": [],
   "source": [
    "gender = data.drop(columns='sex')\n",
    "gender"
   ]
  },
  {
   "cell_type": "markdown",
   "id": "d573d875-7a5a-4809-9334-2cc8050953cb",
   "metadata": {},
   "source": [
    "##### Count how many are ‘northwest’ insurance holders"
   ]
  },
  {
   "cell_type": "code",
   "execution_count": null,
   "id": "81a64954-56fc-406e-b765-a0a99063251f",
   "metadata": {},
   "outputs": [],
   "source": [
    "a = data.region.value_counts().reset_index()\n",
    "a[a.region == 'northwest']"
   ]
  },
  {
   "cell_type": "markdown",
   "id": "0b26eddf-fdf3-48c9-b0c3-d948c91a5493",
   "metadata": {},
   "source": [
    "##### Count how many insurance holders were ‘female’"
   ]
  },
  {
   "cell_type": "code",
   "execution_count": null,
   "id": "3c9f1384-028a-48ba-b5d0-b5593396f7f8",
   "metadata": {},
   "outputs": [],
   "source": [
    "data[data.sex=='female'].shape[0]"
   ]
  },
  {
   "cell_type": "markdown",
   "id": "031711fe-10e5-4396-83cc-6d0d36fa32b7",
   "metadata": {},
   "source": [
    "##### Create a new column ‘ratio’ which is age multiply by bmi"
   ]
  },
  {
   "cell_type": "code",
   "execution_count": 30,
   "id": "78c25be1-ed7d-4bae-aa04-c877b9606011",
   "metadata": {},
   "outputs": [],
   "source": [
    "data['ratio']=data.age * data.bmi"
   ]
  },
  {
   "cell_type": "markdown",
   "id": "093ad2c1-d388-4a39-a7e5-91330fb54b0c",
   "metadata": {},
   "source": [
    "##### Arrange the table from high to low according to charges"
   ]
  },
  {
   "cell_type": "code",
   "execution_count": null,
   "id": "d73580f7-6c2a-487c-9a08-d48737ff2882",
   "metadata": {},
   "outputs": [],
   "source": [
    "data.sort_values(by='charges',ascending=False)"
   ]
  },
  {
   "cell_type": "markdown",
   "id": "78c0978a-2975-40b2-8a96-b6be15dc426f",
   "metadata": {},
   "source": [
    "##### Find MAX of ‘charges’"
   ]
  },
  {
   "cell_type": "code",
   "execution_count": null,
   "id": "8ad53f31-b7be-47cd-8402-25e31c774bfb",
   "metadata": {},
   "outputs": [],
   "source": [
    "data.charges.max()"
   ]
  },
  {
   "cell_type": "markdown",
   "id": "c544c2cf-8950-43f4-b61a-84564572eee2",
   "metadata": {},
   "source": [
    "##### Find MIN of ‘charges’"
   ]
  },
  {
   "cell_type": "code",
   "execution_count": null,
   "id": "0a202054-15e1-4cef-95d9-e251d9d93abb",
   "metadata": {},
   "outputs": [],
   "source": [
    "data.charges.min()"
   ]
  },
  {
   "cell_type": "markdown",
   "id": "fe8ef2d4-f6ce-41e1-a8c1-5cabc279e4b4",
   "metadata": {},
   "source": [
    "##### Find average of ‘charges’ of male and female"
   ]
  },
  {
   "cell_type": "code",
   "execution_count": null,
   "id": "7a83e769-adde-49b6-897d-a7cc0e8461c5",
   "metadata": {},
   "outputs": [],
   "source": [
    "data.groupby('sex').charges.mean()"
   ]
  },
  {
   "cell_type": "markdown",
   "id": "1dcfc442-a7f3-4a88-8ca7-5d187c98330e",
   "metadata": {},
   "source": [
    "##### Rename column name sex to Gender"
   ]
  },
  {
   "cell_type": "code",
   "execution_count": 42,
   "id": "35eb52b1-ecba-44cd-b00a-d34ea5730200",
   "metadata": {},
   "outputs": [],
   "source": [
    "data.rename(columns={'sex':'gender'},inplace=True)"
   ]
  },
  {
   "cell_type": "markdown",
   "id": "b548ce0a-29c4-49a4-a8b2-40ebdb7eed1f",
   "metadata": {},
   "source": [
    "##### Add new column as HL_Charges where more than average charges should be categorized as HIGH and less than average charges should be categorized as LOW"
   ]
  },
  {
   "cell_type": "code",
   "execution_count": 44,
   "id": "d22783ab-2d91-469f-b122-6696cd1c0e8f",
   "metadata": {},
   "outputs": [],
   "source": [
    "data['HL_Charges']=data.charges.apply(lambda x:'HIGH' if x>data.charges.mean() else 'LOW')"
   ]
  },
  {
   "cell_type": "markdown",
   "id": "e29fe29e-c61d-4e33-baa4-97bce4ce914a",
   "metadata": {},
   "source": [
    "##### Change location/position of ‘smoker’ and bring before ‘children’"
   ]
  },
  {
   "cell_type": "code",
   "execution_count": null,
   "id": "665c4ead-c785-482f-9302-6a61be205841",
   "metadata": {},
   "outputs": [],
   "source": [
    "data=data[['id','age','gender','bmi','smoker','children','region','charges','ratio','HL_Charges']]"
   ]
  },
  {
   "cell_type": "markdown",
   "id": "3b42ff4e-48e0-4560-a98c-61a4663985dc",
   "metadata": {},
   "source": [
    "##### Show top 20 records"
   ]
  },
  {
   "cell_type": "code",
   "execution_count": null,
   "id": "f2416787-775a-4bb8-a0de-9a45ccec0fca",
   "metadata": {},
   "outputs": [],
   "source": [
    "data.head(20)"
   ]
  },
  {
   "cell_type": "markdown",
   "id": "1359dc16-6913-4e47-8b8b-07ede522201b",
   "metadata": {},
   "source": [
    "##### Show bottom 20 records"
   ]
  },
  {
   "cell_type": "code",
   "execution_count": null,
   "id": "00080156-dbd1-4d63-bc7e-a70a444ad385",
   "metadata": {},
   "outputs": [],
   "source": [
    "data.tail(20)"
   ]
  },
  {
   "cell_type": "markdown",
   "id": "49558dde-020d-4c44-8d4f-ec82b0122911",
   "metadata": {},
   "source": [
    "##### Randomly select 20% of records"
   ]
  },
  {
   "cell_type": "code",
   "execution_count": null,
   "id": "b52d7e79-39d7-44a9-8301-5a157dc0d6e1",
   "metadata": {},
   "outputs": [],
   "source": [
    "b = int(0.2*data.shape[0])\n",
    "data.sample(frac=1).head(b)"
   ]
  },
  {
   "cell_type": "markdown",
   "id": "38147a11-03e3-438c-9c56-9c8d2cff39b6",
   "metadata": {},
   "source": [
    "##### Remove column ‘ratio’"
   ]
  },
  {
   "cell_type": "code",
   "execution_count": 70,
   "id": "3f2ce2c0-87c4-4d95-8c2e-b2fa19c49888",
   "metadata": {},
   "outputs": [],
   "source": [
    "data.drop(columns='ratio',inplace=True)"
   ]
  },
  {
   "cell_type": "markdown",
   "id": "88e6be4e-0302-411e-9367-6a2907c3a616",
   "metadata": {},
   "source": [
    "##### Create a view called Female_HL_Charges that shows only those data where HL_Charges is High, Female, Smokers and with 0 children"
   ]
  },
  {
   "cell_type": "code",
   "execution_count": null,
   "id": "e3222af1-0e25-4c69-8f04-648fc671a302",
   "metadata": {},
   "outputs": [],
   "source": [
    "Female_HL_Charges=data[(data.HL_Charges=='HIGH')&(data.gender=='female')&(data.smoker=='yes')&(data.children==0)]\n",
    "Female_HL_Charges"
   ]
  },
  {
   "cell_type": "markdown",
   "id": "9f7df322-809a-4f61-8efe-cd8e62a93be4",
   "metadata": {},
   "source": [
    "##### Update children column if there is 0 children then make it as Zero Children, if 1 then one_children, if 2 then two_children, if 3 then three_children, if 4 then four_children if 5 then five_children else print it as More_than_five_children."
   ]
  },
  {
   "cell_type": "code",
   "execution_count": 76,
   "id": "953ae458-e48f-42f8-b5ad-2e527f53da74",
   "metadata": {},
   "outputs": [],
   "source": [
    "data.children=data.children.apply(lambda x: 'Zero Children' if x==0 else 'one_children' if x==1 else 'two_children' if x==2 else 'three_children' if x==3 else 'four_children' if x==4 else 'five_children' if x==5 else 'More_than_five_children')"
   ]
  }
 ],
 "metadata": {
  "kernelspec": {
   "display_name": "Python 3 (ipykernel)",
   "language": "python",
   "name": "python3"
  },
  "language_info": {
   "codemirror_mode": {
    "name": "ipython",
    "version": 3
   },
   "file_extension": ".py",
   "mimetype": "text/x-python",
   "name": "python",
   "nbconvert_exporter": "python",
   "pygments_lexer": "ipython3",
   "version": "3.13.2"
  }
 },
 "nbformat": 4,
 "nbformat_minor": 5
}
