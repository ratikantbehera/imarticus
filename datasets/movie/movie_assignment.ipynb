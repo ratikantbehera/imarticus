{
 "cells": [
  {
   "cell_type": "markdown",
   "id": "3be6312b-a1bb-467e-b8b0-e41ca6ee95f9",
   "metadata": {},
   "source": [
    "## Movie Dataset Questions"
   ]
  },
  {
   "cell_type": "code",
   "execution_count": null,
   "id": "1dbdb319-1e29-4b7b-8e34-b4b1878772cc",
   "metadata": {},
   "outputs": [],
   "source": [
    "import pandas as pd\n",
    "\n",
    "actor = pd.read_csv('actor.csv')\n",
    "cast = pd.read_csv('cast.csv')\n",
    "director = pd.read_csv('director.csv')\n",
    "genres = pd.read_csv('genres.csv')\n",
    "mdir = pd.read_csv('movie_direction.csv')\n",
    "mgen = pd.read_csv('movie_genres.csv')\n",
    "movie = pd.read_csv('movie.csv')\n",
    "ratings = pd.read_csv('ratings.csv')\n",
    "rev = pd.read_csv('reviewer.csv')"
   ]
  },
  {
   "cell_type": "markdown",
   "id": "3cd81fd6-cc7d-4f6d-912d-5aab157f9e93",
   "metadata": {},
   "source": [
    "##### Find when the movie 'American Beauty' released. Return movie release year"
   ]
  },
  {
   "cell_type": "code",
   "execution_count": null,
   "id": "39327fb1-dea1-4c0c-bc27-cbb5b9857c8f",
   "metadata": {},
   "outputs": [],
   "source": [
    "movie[movie.mov_title == 'American Beauty'][['mov_year']]"
   ]
  },
  {
   "cell_type": "markdown",
   "id": "d42e1120-71c5-493b-9390-eddafe54110e",
   "metadata": {},
   "source": [
    "##### Find those movies, which were released before 1998. Return movie title."
   ]
  },
  {
   "cell_type": "code",
   "execution_count": null,
   "id": "19fa15d4-f5bf-419c-ad55-eda6a5d5fdde",
   "metadata": {},
   "outputs": [],
   "source": [
    "movie[movie.mov_year < 1998][['mov_title']]"
   ]
  },
  {
   "cell_type": "markdown",
   "id": "ffe871f4-fdcb-4052-a997-6f9facc8ab3f",
   "metadata": {},
   "source": [
    "##### Return all the data of the movies which were released after 1995 and their movie duration was greater than 120"
   ]
  },
  {
   "cell_type": "code",
   "execution_count": null,
   "id": "791f7793-6064-4201-aa86-5e0d9d37ec6a",
   "metadata": {},
   "outputs": [],
   "source": [
    "movie[(movie.mov_year>1995)&(movie.mov_time>120)]"
   ]
  },
  {
   "cell_type": "markdown",
   "id": "d0d30661-a12c-4cf3-85e3-b95a4b8e793c",
   "metadata": {},
   "source": [
    "##### Determine the Top 7 movies which were released in United Kingdom. Sort the data in ascending order of the movie year"
   ]
  },
  {
   "cell_type": "code",
   "execution_count": null,
   "id": "5cdec334-6bec-4918-a24d-42ba7427885e",
   "metadata": {},
   "outputs": [],
   "source": [
    "movie[movie.mov_rel_country == 'UK'].sort_values('mov_year').head(7)"
   ]
  },
  {
   "cell_type": "markdown",
   "id": "9de0d629-9ec3-42fb-9167-69c02a7db654",
   "metadata": {},
   "source": [
    "##### Set the language of movie language as 'Chinese' for the movie which has its existing language as Japanese and the movie year was 2001"
   ]
  },
  {
   "cell_type": "code",
   "execution_count": 45,
   "id": "5735c072-eb58-4af0-a8bd-6706b524de50",
   "metadata": {},
   "outputs": [],
   "source": [
    "movie.loc[(movie.mov_lang=='Japanese')&(movie.mov_year==2001),['mov_lang']] = 'Chinese'"
   ]
  },
  {
   "cell_type": "markdown",
   "id": "3b7f2760-6fa4-49bc-9987-ed5ac07f15d1",
   "metadata": {},
   "source": [
    "##### Find name of all the reviewers who rated the movie 'Slumdog Millionaire'"
   ]
  },
  {
   "cell_type": "code",
   "execution_count": null,
   "id": "48ba5aa0-aacf-41cd-a045-c3aa4dccf7b1",
   "metadata": {},
   "outputs": [],
   "source": [
    "k = pd.merge(movie,ratings,on='mov_id')\n",
    "m = pd.merge(k,rev,on='rev_id')\n",
    "m[m.mov_title=='Slumdog Millionaire'][['rev_name']]"
   ]
  },
  {
   "cell_type": "markdown",
   "id": "70b8189b-0244-4c9f-b75a-0a8be566a690",
   "metadata": {},
   "source": [
    "##### Fetch the first name, last name & role played by the actor where output should all exclude Male actors"
   ]
  },
  {
   "cell_type": "code",
   "execution_count": null,
   "id": "b0029d86-e3d8-4516-889a-2f246de01b8d",
   "metadata": {},
   "outputs": [],
   "source": [
    "a = pd.merge(actor,cast,on='act_id')\n",
    "a[a.act_gender!='M'][['act_fname','act_lname','role']]"
   ]
  },
  {
   "cell_type": "markdown",
   "id": "31963683-0d77-4e30-9815-f60f98163206",
   "metadata": {},
   "source": [
    "##### Find the actors who played a role in the movie 'Annie Hall'. Fetch all the fields of actor table"
   ]
  },
  {
   "cell_type": "code",
   "execution_count": null,
   "id": "b74ac6b6-046f-4a3d-9f3c-eda3d3905ddd",
   "metadata": {},
   "outputs": [],
   "source": [
    "q = pd.merge(actor,cast,on='act_id')\n",
    "r = pd.merge(q,movie,on='mov_id')\n",
    "r[r.mov_title=='Annie Hall']"
   ]
  },
  {
   "cell_type": "markdown",
   "id": "3dc29da5-9d56-489f-8555-4c3143811cfb",
   "metadata": {},
   "source": [
    "##### Find those movies that have been released in countries other than the United Kingdom. Return movie title, movie year, movie time, and date of release, releasing country"
   ]
  },
  {
   "cell_type": "code",
   "execution_count": null,
   "id": "b16d1917-641c-4ad9-951c-19d28b178441",
   "metadata": {},
   "outputs": [],
   "source": [
    "movie[movie.mov_rel_country!='UK'].drop(columns=['mov_id','mov_lang'])"
   ]
  },
  {
   "cell_type": "markdown",
   "id": "b62884a8-bbb9-455c-8ad6-b2d209d48b36",
   "metadata": {},
   "source": [
    "##### Print genre title, maximum movie duration and the count the number of movies in each genre"
   ]
  },
  {
   "cell_type": "code",
   "execution_count": null,
   "id": "c1f3e95c-d973-4215-bd7b-b5be9fc81dbd",
   "metadata": {},
   "outputs": [],
   "source": [
    "d = pd.merge(genres,mgen,on='gen_id')\n",
    "e = pd.merge(d,movie,on='mov_id')\n",
    "f = e.groupby('gen_title').mov_time.max().reset_index()\n",
    "g = e.gen_title.value_counts().reset_index()\n",
    "h = pd.merge(f,g,on='gen_title')\n",
    "h"
   ]
  },
  {
   "cell_type": "markdown",
   "id": "bbe39925-2c7a-4fb0-8202-114b6e7b45a2",
   "metadata": {},
   "source": [
    "##### Create a view which should contain the first name, last name, title of the movie & role played by particular actor"
   ]
  },
  {
   "cell_type": "code",
   "execution_count": null,
   "id": "06b25c51-a63c-49c7-a132-bfc811850f17",
   "metadata": {},
   "outputs": [],
   "source": [
    "b = pd.merge(actor,cast,on='act_id')\n",
    "c = pd.merge(b,movie,on='mov_id')\n",
    "view = c[['act_fname','act_lname','role','mov_title']]\n",
    "view"
   ]
  },
  {
   "cell_type": "markdown",
   "id": "5c1ff55d-a5ce-4d03-a3e1-ae94221e2625",
   "metadata": {},
   "source": [
    "##### Find the movies with the lowest ratings"
   ]
  },
  {
   "cell_type": "code",
   "execution_count": null,
   "id": "3abbf9e9-894f-4581-97d2-47cff3807932",
   "metadata": {},
   "outputs": [],
   "source": [
    "s = pd.merge(movie,ratings,on='mov_id')\n",
    "t = s[~s.num_o_ratings.isnull()]\n",
    "u = t[t.num_o_ratings==t.num_o_ratings.min()]\n",
    "u"
   ]
  }
 ],
 "metadata": {
  "kernelspec": {
   "display_name": "Python 3 (ipykernel)",
   "language": "python",
   "name": "python3"
  },
  "language_info": {
   "codemirror_mode": {
    "name": "ipython",
    "version": 3
   },
   "file_extension": ".py",
   "mimetype": "text/x-python",
   "name": "python",
   "nbconvert_exporter": "python",
   "pygments_lexer": "ipython3",
   "version": "3.13.2"
  }
 },
 "nbformat": 4,
 "nbformat_minor": 5
}
