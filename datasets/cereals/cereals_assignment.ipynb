{
 "cells": [
  {
   "cell_type": "markdown",
   "id": "a3512a01-fa31-4a59-a6bf-3a19a9a67b10",
   "metadata": {},
   "source": [
    "## Cereals Dataset Questions"
   ]
  },
  {
   "cell_type": "code",
   "execution_count": null,
   "id": "1c53b5f8-c9e3-40a7-ab63-92c4a4dc89cd",
   "metadata": {},
   "outputs": [],
   "source": [
    "import pandas as pd\n",
    "\n",
    "data = pd.read_csv('cereals_data.csv')"
   ]
  },
  {
   "cell_type": "markdown",
   "id": "ee486170-ed96-4197-9650-84edafff6c12",
   "metadata": {},
   "source": [
    "##### Create view name as see where users can not see type column"
   ]
  },
  {
   "cell_type": "code",
   "execution_count": null,
   "id": "eb147c7e-c41f-413e-8bde-cdf95c0e454e",
   "metadata": {},
   "outputs": [],
   "source": [
    "see = data.drop(columns='type')\n",
    "see"
   ]
  },
  {
   "cell_type": "markdown",
   "id": "e0d7b629-d549-40a1-94e4-fc6fa7385f5a",
   "metadata": {},
   "source": [
    "##### Rename the view as saw"
   ]
  },
  {
   "cell_type": "code",
   "execution_count": null,
   "id": "b76d0b31-b31c-441c-b318-263d2c314f63",
   "metadata": {},
   "outputs": [],
   "source": [
    "saw = see\n",
    "saw"
   ]
  },
  {
   "cell_type": "markdown",
   "id": "e68f032a-ebf1-4f46-a278-d7a3dca8ba86",
   "metadata": {},
   "source": [
    "##### Count how many are cold cereals"
   ]
  },
  {
   "cell_type": "code",
   "execution_count": null,
   "id": "19669cb2-16e3-4f81-94da-dd53ebd1c365",
   "metadata": {},
   "outputs": [],
   "source": [
    "data[data.type == 'C'].shape[0]"
   ]
  },
  {
   "cell_type": "markdown",
   "id": "40483a44-b1e2-4d48-aeec-433e128fed37",
   "metadata": {},
   "source": [
    "##### Count how many cereals are kept in shelf 3"
   ]
  },
  {
   "cell_type": "code",
   "execution_count": null,
   "id": "679e6230-d678-4ffd-92ef-f925e7b7b1c4",
   "metadata": {},
   "outputs": [],
   "source": [
    "data[data.shelf==3].shape[0]"
   ]
  },
  {
   "cell_type": "markdown",
   "id": "77b38471-bcf6-49f6-a976-43499ca7841f",
   "metadata": {},
   "source": [
    "##### Arrange the table from high to low according to ratings"
   ]
  },
  {
   "cell_type": "code",
   "execution_count": null,
   "id": "8c190ebd-efd5-4959-b62f-ca97f0590428",
   "metadata": {},
   "outputs": [],
   "source": [
    "data.sort_values('rating',ascending=False)"
   ]
  },
  {
   "cell_type": "markdown",
   "id": "284706e9-08df-4588-90a9-549801f5ff30",
   "metadata": {},
   "source": [
    "##### Find average of calories of hot cereal and cold cereal in one query"
   ]
  },
  {
   "cell_type": "code",
   "execution_count": null,
   "id": "a7a8ff5a-afb1-4d5e-9f68-c07c56ae0b78",
   "metadata": {},
   "outputs": [],
   "source": [
    "data.groupby('type').calories.mean()"
   ]
  },
  {
   "cell_type": "markdown",
   "id": "5107c67e-757a-4b7d-8667-600194484c60",
   "metadata": {},
   "source": [
    "##### Add new column as HL_Calories where more than average calories should be categorized as HIGH and less than average calories should be categorized as LOW"
   ]
  },
  {
   "cell_type": "code",
   "execution_count": 49,
   "id": "e5effab6-9063-46c8-802f-ccdb1ef9a4cd",
   "metadata": {},
   "outputs": [],
   "source": [
    "data['HL_Calories']=data.calories.apply(lambda x: 'HIGH' if x>data.calories.mean() else 'LOW')"
   ]
  },
  {
   "cell_type": "markdown",
   "id": "b713ba35-a9a4-4821-8b5d-97e3882f75cb",
   "metadata": {},
   "source": [
    "##### List only those cereals whose name begins with B"
   ]
  },
  {
   "cell_type": "code",
   "execution_count": null,
   "id": "bcac4644-cbf9-4e6e-9a01-420367877ecc",
   "metadata": {},
   "outputs": [],
   "source": [
    "data[data.name.apply(lambda x: True if x[0]=='B' else False)]"
   ]
  },
  {
   "cell_type": "markdown",
   "id": "b010b176-0fb3-41ad-8ff2-3fe9806eba62",
   "metadata": {},
   "source": [
    "##### List only those cereals whose name begins with F"
   ]
  },
  {
   "cell_type": "code",
   "execution_count": null,
   "id": "64dcee00-6ae1-43ce-969e-517ace95870f",
   "metadata": {},
   "outputs": [],
   "source": [
    "data[data.name.apply(lambda x: True if x[0]=='F' else False)]"
   ]
  },
  {
   "cell_type": "markdown",
   "id": "9d66e676-b1bf-488f-92f1-c713cb2221d3",
   "metadata": {},
   "source": [
    "##### List only those cereals whose name ends with s"
   ]
  },
  {
   "cell_type": "code",
   "execution_count": null,
   "id": "889bcc10-8766-45df-9c54-16994a481d50",
   "metadata": {},
   "outputs": [],
   "source": [
    "data[data.name.apply(lambda x: True if x[-1]=='s' else False)]"
   ]
  },
  {
   "cell_type": "markdown",
   "id": "5d9ec724-4d5a-49aa-a08f-6065ced4c6db",
   "metadata": {},
   "source": [
    "##### Select only those records which are HIGH in column HL_calories"
   ]
  },
  {
   "cell_type": "code",
   "execution_count": null,
   "id": "1f596cc9-70e9-44ec-82ee-4901825ca6d0",
   "metadata": {},
   "outputs": [],
   "source": [
    "data[data.HL_Calories=='HIGH']"
   ]
  },
  {
   "cell_type": "markdown",
   "id": "b08ab90a-ac7a-4fca-b4ea-692392029e27",
   "metadata": {},
   "source": [
    "##### Find maximum of ratings"
   ]
  },
  {
   "cell_type": "code",
   "execution_count": null,
   "id": "cefab188-6b10-4155-9264-f66e307e71ed",
   "metadata": {},
   "outputs": [],
   "source": [
    "data.rating.max()"
   ]
  },
  {
   "cell_type": "markdown",
   "id": "4ede354f-667f-4264-a70b-3bdd7eb910b7",
   "metadata": {},
   "source": [
    "##### Find average ratings of those were High and Low calories"
   ]
  },
  {
   "cell_type": "code",
   "execution_count": null,
   "id": "17318c36-7019-48e0-a3d3-3ceec4bb887d",
   "metadata": {},
   "outputs": [],
   "source": [
    "data.groupby('HL_Calories').rating.mean()"
   ]
  },
  {
   "cell_type": "markdown",
   "id": "c0c62ee9-26bc-4878-92a1-351f3e4273b4",
   "metadata": {},
   "source": [
    "##### Remove column fat"
   ]
  },
  {
   "cell_type": "code",
   "execution_count": 62,
   "id": "76237874-68f8-427b-b87f-5212fa4c07d9",
   "metadata": {},
   "outputs": [],
   "source": [
    "data.drop(columns='fat',inplace=True)"
   ]
  },
  {
   "cell_type": "markdown",
   "id": "ad8036d6-f55a-44ce-83a9-07988d3dedc6",
   "metadata": {},
   "source": [
    "##### Count records for each manufacturer (mfr)"
   ]
  },
  {
   "cell_type": "code",
   "execution_count": null,
   "id": "0da380dd-adda-4a09-b01e-855b17c0f045",
   "metadata": {},
   "outputs": [],
   "source": [
    "data.mfr.value_counts()"
   ]
  },
  {
   "cell_type": "markdown",
   "id": "15a4aeb6-6363-4b06-b19d-1a25f346714e",
   "metadata": {},
   "source": [
    "##### Select name, calories and ratings only"
   ]
  },
  {
   "cell_type": "code",
   "execution_count": null,
   "id": "fbc91bc8-16ca-4b5a-913d-d70b6b3a019b",
   "metadata": {},
   "outputs": [],
   "source": [
    "data[['name','calories','rating']]"
   ]
  }
 ],
 "metadata": {
  "kernelspec": {
   "display_name": "Python 3 (ipykernel)",
   "language": "python",
   "name": "python3"
  },
  "language_info": {
   "codemirror_mode": {
    "name": "ipython",
    "version": 3
   },
   "file_extension": ".py",
   "mimetype": "text/x-python",
   "name": "python",
   "nbconvert_exporter": "python",
   "pygments_lexer": "ipython3",
   "version": "3.13.2"
  }
 },
 "nbformat": 4,
 "nbformat_minor": 5
}
